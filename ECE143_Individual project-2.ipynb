{
 "cells": [
  {
   "cell_type": "markdown",
   "metadata": {},
   "source": [
    "# ECE 143 Individual Project"
   ]
  },
  {
   "cell_type": "markdown",
   "metadata": {},
   "source": [
    "Name: Yumeng Ruan  \n",
    "PID: A53250267"
   ]
  },
  {
   "cell_type": "markdown",
   "metadata": {},
   "source": [
    "# Problem"
   ]
  },
  {
   "cell_type": "markdown",
   "metadata": {},
   "source": [
    "You have been asked to help with planning an ad-hoc communications network over a large rectangular region. Each individual tower can monitor a rectangular subsection of a specific width and height. The main problem is that none of the individual towers can provide coverage for the entire region of interest. Communications towers are unreliable and are put up independently and at random. You have no control over where or how big a tower’s footprint is placed. Importantly, due to technical issues such as cross-talk, no individual rectangular subsection can have multiple towers providing coverage for it. That is, there can be no overlap between any pair of rectangular subsections provided by the two respective towers. In any case, the desire is to maximize the coverage area of any available communications tower."
   ]
  },
  {
   "cell_type": "markdown",
   "metadata": {},
   "source": [
    "# Requirements"
   ]
  },
  {
   "cell_type": "markdown",
   "metadata": {},
   "source": [
    "The order of when the towers come online is important. Once a tower has acquired its rectangular section, no subsequent tower can overlap that section. You may assume the following for this problem:\n",
    "\n",
    "● All rectangular sections have integer-based corners.  \n",
    "● All rectangular sections must be contained in the overall rectangular footprint.  \n",
    "● The height and width of each rectangular section is sampled from a uniform distribution.  \n",
    "● Positions of the windows are also determined by uniform random distribution.  \n",
    "● All footprints must be rectangles (not general polygons).  \n",
    "● When a new tower comes online, if its coverage rectangle intersects the pre-existing\n",
    "composite footprint, then that new tower’s coverage is trimmed such that its maximum remaining coverage area is retained (see sequential diagram below).  \n",
    "\n",
    "Write a detailed Jupyter notebook that implements a solution to this problem such that the user can supply the following overall size of desired coverage footprint and then determine the following:  \n",
    "\n",
    "● Given an overall desired coverage footprint and a sequence of n communications towers, what   is the resulting resolved coverage?  \n",
    "● What is the total area of coverage relative to the desired total coverage area of the         original footprint? That is, are there any gaps in coverage?  \n",
    "● On average, how many communications towers are required before full coverage is obtained?  "
   ]
  },
  {
   "cell_type": "markdown",
   "metadata": {},
   "source": [
    "# Discussion"
   ]
  },
  {
   "cell_type": "markdown",
   "metadata": {},
   "source": [
    "Let's simplify this problem into 4 steps:  \n",
    "1. At first, we can view a tower as a rectangle, we need a method to generate rectangles;  \n",
    "2. Then input integer-based rectangles with random length and width sequently into a square region;    \n",
    "3. Since we are required to check the overlapping section and then trim the wanting maximum non-overlapping rectangle, we need find the way;  \n",
    "4. Repeat step3 until the whole square region is covered.\n",
    "\n",
    "Follow these 4 steps we may find the result of the problem."
   ]
  },
  {
   "cell_type": "markdown",
   "metadata": {},
   "source": [
    "# Rectangle"
   ]
  },
  {
   "cell_type": "code",
   "execution_count": 14,
   "metadata": {},
   "outputs": [],
   "source": [
    "class Rect(object):\n",
    "    \"\"\"The rectangle class\n",
    "       A rectangle has four corners: x1,x2,x3,x4, where x1 represents bottom left,\n",
    "       x2 represent bottom right, x3 represent top left and x4 represents top right.\"\"\"\n",
    "    \n",
    "    def __init__(self, start, l, w):\n",
    "        \"\"\"Initialize function\n",
    "           A legal rectangle can be determined by one start position plus length and width.\n",
    "           We define the bottom left of a rectangle as the start position of it\n",
    "           and length in x-axis and width in y-axis\"\"\"\n",
    "        \n",
    "        assert isinstance(start,tuple)\n",
    "        assert isinstance(l,int)\n",
    "        assert isinstance(w,int)\n",
    "        \n",
    "        self.x1 = start\n",
    "        self.length = l\n",
    "        self.width = w\n",
    "        \n",
    "    \n",
    "    @property\n",
    "    def x2(self):\n",
    "        \"\"\"Bottom right point\"\"\"\n",
    "        return (self.x1[0] + self.length, self.x1[1])\n",
    "    \n",
    "    @property\n",
    "    def x3(self):\n",
    "        \"\"\"Top left point\"\"\"\n",
    "        return (self.x1[0], self.x1[1] + self.width)\n",
    "    \n",
    "    @property\n",
    "    def x4(self):\n",
    "        \"\"\"Top right point\"\"\"\n",
    "        return (self.x1[0] + self.length, self.x1[1] +self.width)\n",
    "    \n",
    "    def __repr__(self):\n",
    "        return \"Rectangle(%s,%s,%s,%s)\" % (self.x1,self.x2,self.x3,self.x4)\n",
    "\n",
    "    def __eq__(self,other):\n",
    "        \"\"\"We define equality of two rectangles if they are all the same\"\"\"\n",
    "        return self.x1 == other.x1 and self.x2 == other.x2 and self.x3 == other.x3 and self.x4 == self.x4\n",
    "    \n",
    "    def __ge__(self,other):\n",
    "        \"\"\"We say one rectangle is greater or equal to another when it entirely contains another\"\"\"\n",
    "        return self.x1[0]<=other.x1[0] and self.x1[1]<=other.x1[1] and self.x4[0]>=other.x4[0] and self.x4[1]>=other.x4[1]\n",
    "    \n",
    "    def __ne__(self,other):\n",
    "        \"\"\"We say two rectangles are inequal when they are not overlapped\"\"\"\n",
    "        return self.x2[0] <= other.x1[0] or self.x1[0] >= other.x2[0] or self.x3[1] <= other.x1[1] or self.x1[1] >= other.x3[1]\n",
    "    \n",
    "    @property\n",
    "    def area(self):\n",
    "        \"\"\"Calculate the area\"\"\"\n",
    "        return self.length*self.width\n",
    "        "
   ]
  },
  {
   "cell_type": "markdown",
   "metadata": {},
   "source": [
    "# Region"
   ]
  },
  {
   "cell_type": "code",
   "execution_count": 78,
   "metadata": {},
   "outputs": [],
   "source": [
    "import random\n",
    "\n",
    "def region(length,width,num):\n",
    "    \"\"\"\n",
    "        Create a square region with where we input our rectangles.\n",
    "        We want to input rectangles one by one, if a new input is overlapped with old ones,\n",
    "        we will do the trim and retain a new trimmed rectangle.\n",
    "        Our goal is to clarify if we can fully cover the whole region, \n",
    "        with a maximum number of rectangles.\n",
    "        Also, for the conveniece to monitor the trimming processes, we will remain the non-trimmed\n",
    "        rectangle into another list\n",
    "        \n",
    "        :Param: length: length of the region\n",
    "                width: width of the region\n",
    "                num: maximum number of rectangles we plan to input\n",
    "        \n",
    "        :Return: A list of rectangles which are all trimmed.\n",
    "                 A list of rectangles where the new one has not been trimmed.\n",
    "        \n",
    "        \"\"\"\n",
    "    \n",
    "    assert isinstance(num,int)\n",
    "    assert isinstance(length,int)\n",
    "    assert isinstance(width,int)\n",
    "    assert length > 0\n",
    "    assert width > 0\n",
    "    assert num > 0\n",
    "    \n",
    "    rectlist = []\n",
    "    oldlist = []\n",
    "    area = length*width\n",
    "    \n",
    "    while len(rectlist) <= num:\n",
    "        if total_area(rectlist) == area:\n",
    "            break\n",
    "        else:\n",
    "            new_rect = create_new(length,width)\n",
    "            \n",
    "            if len(rectlist) == 0:\n",
    "                rectlist.append(new_rect)\n",
    "                oldlist.append(new_rect)\n",
    "            else:\n",
    "                oldlist.append(new_rect)\n",
    "                for rect in rectlist:\n",
    "                    new_rect = trim(rect,new_rect)\n",
    "                rectlist.append(new_rect)\n",
    "    \n",
    "    return rectlist,oldlist\n",
    "\n",
    "def create_new(length,width):\n",
    "    \"\"\"\n",
    "        We need to generate rectangles and input them into the region one by one.\n",
    "        This function can create rectangles randomly whose size should be less than the region.\n",
    "        Also its start position must be valid to make the rectangle inside.\n",
    "        \n",
    "        :Param: length: length of the region\n",
    "                width: width of the region\n",
    "        \n",
    "        :Return: A rectangle\n",
    "        \n",
    "        \"\"\"\n",
    "    \n",
    "    assert isinstance(length,int)\n",
    "    assert isinstance(width,int)\n",
    "    assert length > 0\n",
    "    assert width > 0\n",
    "\n",
    "    l = random.randint(1,length)\n",
    "    w = random.randint(1,width)\n",
    "    x = random.randint(0,length-l)\n",
    "    y = random.randint(0,width-w)\n",
    "    \n",
    "    return Rect((x,y),l,w)\n",
    "\n",
    "def total_area(rectlist):\n",
    "    \"\"\"\n",
    "        To calculate the total area of a list of rectangles,\n",
    "        in order to check if they fully cover the region\n",
    "        \n",
    "        \"\"\"\n",
    "    \n",
    "    assert isinstance(rectlist,list)\n",
    "    \n",
    "    total = 0\n",
    "    for rect in rectlist:\n",
    "        total += rect.area\n",
    "    \n",
    "    return total"
   ]
  },
  {
   "cell_type": "markdown",
   "metadata": {},
   "source": [
    "# Trim"
   ]
  },
  {
   "cell_type": "code",
   "execution_count": 79,
   "metadata": {},
   "outputs": [],
   "source": [
    "def trim(R1,R2):\n",
    "    \"\"\"\n",
    "       Trim two rectangles, return the new trimmed rectangle.\n",
    "       if they are not overlapped, do nothing;\n",
    "       if the new one are contained entirely, set the new to 0;\n",
    "       if they intersect, then that new rectangle’s coverage is trimmed \n",
    "       such that its maximum remaining coverage area is retained \n",
    "       \n",
    "       :Param: R1: Old rectangle which already exists.\n",
    "               R2: A new input rectangle\n",
    "       \"\"\"\n",
    "    \n",
    "    if R1 != R2 or R2 == Rect((0,0),0,0):\n",
    "        pass\n",
    "    elif R1 >= R2:\n",
    "        R2 = Rect((0,0),0,0)\n",
    "    else:\n",
    "        l1,r1,b1,t1 = R1.x1[0],R1.x2[0],R1.x1[1],R1.x3[1]\n",
    "        l2,r2,b2,t2 = R2.x1[0],R2.x2[0],R2.x1[1],R2.x3[1]\n",
    "        if not R1 != R2:\n",
    "            if l2 >= l1 and r2 > r1:\n",
    "                if b2 < b1 and t2 > t1:\n",
    "                    A,B,C = Rect((l2,t1),r2-l2,t2-t1),Rect((l2,b2),r2-l2,b1-b2),Rect((r1,b2),r2-r1,t2-b2)\n",
    "                    max_area = max(A.area,B.area,C.area)\n",
    "                    if A.area == max_area:\n",
    "                        R2 = A\n",
    "                    elif B.area == max_area:\n",
    "                        R2 = B\n",
    "                    else:\n",
    "                        R2 = C\n",
    "                elif b2 < b1 and t2 <= t1:\n",
    "                    A,B = Rect((l2,b2),r2-l2,b1-b2),Rect((r1,b2),r2-r1,t2-b2)\n",
    "                    if A.area > B.area:\n",
    "                        R2 = A\n",
    "                    else:\n",
    "                        R2 = B\n",
    "                elif b2 >=b1 and t2 > t1:\n",
    "                    A,B= Rect((l2,t1),r2-l2,t2-t1),Rect((r1,b2),r2-r1,t2-b2)\n",
    "                    if A.area > B.area:\n",
    "                        R2 = A\n",
    "                    else:\n",
    "                        R2 = B\n",
    "                else:\n",
    "                    R2 = Rect((r1,b2),r2-r1,t2-b2)\n",
    "            \n",
    "            elif l2 < l1 and r2 <= r1:\n",
    "                if b2 < b1 and t2 > t1:\n",
    "                    A,B,C = Rect((l2,t1),r2-l2,t2-t1),Rect((l2,b2),r2-l2,b1-b2),Rect((l2,b2),l1-l2,t2-b2)\n",
    "                    max_area = max(A.area,B.area,C.area)\n",
    "                    if A.area == max_area:\n",
    "                        R2 = A\n",
    "                    elif B.area == max_area:\n",
    "                        R2 = B\n",
    "                    else:\n",
    "                        R2 = C\n",
    "                elif b2 < b1 and t2 <= t1:\n",
    "                    A,B = Rect((l2,b2),r2-l2,b1-b2),Rect((l2,b2),l1-l2,t2-b2)\n",
    "                    if A.area > B.area:\n",
    "                        R2 = A\n",
    "                    else:\n",
    "                        R2 = B\n",
    "                elif b2 >=b1 and t2 > t1:\n",
    "                    A,B= Rect((l2,t1),r2-l2,t2-t1),Rect((l2,b2),l1-l2,t2-b2)\n",
    "                    if A.area > B.area:\n",
    "                        R2 = A\n",
    "                    else:\n",
    "                        R2 = B\n",
    "                else:\n",
    "                    R2 = Rect((l2,b2),l1-l2,t2-b2)\n",
    "            \n",
    "            elif l2 < l1 and r2 > r1:\n",
    "                if b2 < b1 and t2 > t1:\n",
    "                    A,B,C,D = Rect((l2,t1),r2-l2,t2-t1),Rect((l2,b2),r2-l2,b1-b2),Rect((l2,b2),l1-l2,t2-b2),Rect((r1,b2),r2-r1,t2-b2)\n",
    "                    max_area = max(A.area,B.area,C.area,D.area)\n",
    "                    if A.area == max_area:\n",
    "                        R2 = A\n",
    "                    elif B.area == max_area:\n",
    "                        R2 = B\n",
    "                    elif C.area == max_area:\n",
    "                        R2 = C\n",
    "                    else:\n",
    "                        R2 = D\n",
    "                elif b2 < b1 and t2 <= t1:\n",
    "                    A,B,C = Rect((l2,b2),r2-l2,b1-b2),Rect((l2,b2),l1-l2,t2-b2),Rect((r1,b2),r2-r1,t2-b2)\n",
    "                    max_area = max(A.area,B.area,C.area)\n",
    "                    if A.area == max_area:\n",
    "                        R2 = A\n",
    "                    elif B.area == max_area:\n",
    "                        R2 = B\n",
    "                    else:\n",
    "                        R2 = C\n",
    "                elif b2 >=b1 and t2 > t1:\n",
    "                    A,B,C = Rect((l2,t1),r2-l2,t2-t1),Rect((l2,b2),l1-l2,t2-b2),Rect((r1,b2),r2-r1,t2-b2)\n",
    "                    max_area = max(A.area,B.area,C.area)\n",
    "                    if A.area == max_area:\n",
    "                        R2 = A\n",
    "                    elif B.area == max_area:\n",
    "                        R2 = B\n",
    "                    else:\n",
    "                        R2 = C\n",
    "                else:\n",
    "                    A,B = Rect((l2,b2),l1-l2,t2-b2),Rect((r1,b2),r2-r1,t2-b2)\n",
    "                    if A.area > B.area:\n",
    "                        R2 = A\n",
    "                    else:\n",
    "                        R2 = B\n",
    "            else:\n",
    "                if b2 < b1 and t2 > t1:\n",
    "                    A,B = Rect((l2,t1),r2-l2,t2-t1),Rect((l2,b2),r2-l2,b1-b2)\n",
    "                    if A.area > B.area:\n",
    "                        R2 = A\n",
    "                    else:\n",
    "                        R2 = B\n",
    "                elif b2 < b1 and t2 <= t1:\n",
    "                    R2 = Rect((l2,b2),r2-l2,b1-b2)\n",
    "                else:\n",
    "                    R2 = Rect((l2,t1),r2-l2,t2-t1)\n",
    "    \n",
    "    return R2        "
   ]
  },
  {
   "cell_type": "code",
   "execution_count": 19,
   "metadata": {},
   "outputs": [
    {
     "data": {
      "text/plain": [
       "Rectangle((1, 4),(10, 4),(1, 9),(10, 9))"
      ]
     },
     "execution_count": 19,
     "metadata": {},
     "output_type": "execute_result"
    }
   ],
   "source": [
    "create_new(10,10)"
   ]
  },
  {
   "cell_type": "markdown",
   "metadata": {},
   "source": [
    "# Visualize"
   ]
  },
  {
   "cell_type": "code",
   "execution_count": 80,
   "metadata": {},
   "outputs": [],
   "source": [
    "import matplotlib.pyplot as plt\n",
    "import matplotlib.patches as mpatches"
   ]
  },
  {
   "cell_type": "code",
   "execution_count": 81,
   "metadata": {},
   "outputs": [],
   "source": [
    "length = 10\n",
    "width = 10\n",
    "num = 10\n",
    "\n",
    "newlist,oldlist = region(length,width,num)"
   ]
  },
  {
   "cell_type": "code",
   "execution_count": 82,
   "metadata": {},
   "outputs": [
    {
     "data": {
      "image/png": "[encoded data removed]",
      "text/plain": [
       "<Figure size 432x288 with 2 Axes>"
      ]
     },
     "metadata": {},
     "output_type": "display_data"
    },
    {
     "data": {
      "image/png": "[encoded data removed]",
      "text/plain": [
       "<Figure size 432x288 with 2 Axes>"
      ]
     },
     "metadata": {},
     "output_type": "display_data"
    },
    {
     "data": {
      "image/png": "[encoded data removed]",
      "text/plain": [
       "<Figure size 432x288 with 2 Axes>"
      ]
     },
     "metadata": {},
     "output_type": "display_data"
    },
    {
     "data": {
      "image/png": "[encoded data removed]",
      "text/plain": [
       "<Figure size 432x288 with 2 Axes>"
      ]
     },
     "metadata": {},
     "output_type": "display_data"
    },
    {
     "data": {
      "image/png": "[encoded data removed]",
      "text/plain": [
       "<Figure size 432x288 with 2 Axes>"
      ]
     },
     "metadata": {},
     "output_type": "display_data"
    },
    {
     "data": {
      "image/png": "[encoded data removed]",
      "text/plain": [
       "<Figure size 432x288 with 2 Axes>"
      ]
     },
     "metadata": {},
     "output_type": "display_data"
    },
    {
     "data": {
      "image/png": "[encoded data removed]",
      "text/plain": [
       "<Figure size 432x288 with 2 Axes>"
      ]
     },
     "metadata": {},
     "output_type": "display_data"
    },
    {
     "data": {
      "image/png": "[encoded data removed]",
      "text/plain": [
       "<Figure size 432x288 with 2 Axes>"
      ]
     },
     "metadata": {},
     "output_type": "display_data"
    },
    {
     "data": {
      "image/png": "[encoded data removed]",
      "text/plain": [
       "<Figure size 432x288 with 2 Axes>"
      ]
     },
     "metadata": {},
     "output_type": "display_data"
    },
    {
     "data": {
      "image/png": "[encoded data removed]",
      "text/plain": [
       "<Figure size 432x288 with 2 Axes>"
      ]
     },
     "metadata": {},
     "output_type": "display_data"
    },
    {
     "data": {
      "image/png": "[encoded data removed]",
      "text/plain": [
       "<Figure size 432x288 with 2 Axes>"
      ]
     },
     "metadata": {},
     "output_type": "display_data"
    }
   ],
   "source": [
    "n=1\n",
    "while n <= len(newlist):\n",
    "    colors = color = [(0.1,0.1,0.8,0.9), (0.1,1,0.2,0.9), (1,0,0.1,0.9), (0.5,0.05,0.5,0.9), (0.9,0.9,0,0.9), (0.2,0.2,0.2,0.3), (0.7,0.1,0.9,0.9), (0.6,0.6,0.6,0.9), (0.3,0.5,0.6,0.9), (0.2,0.1,0.6,0.9), (0.7,0.7,0.2,0.9)]\n",
    "    fig,(ax1,ax2) = plt.subplots(1,2, sharex = True, sharey = True)\n",
    "    plt.axis([0,10,0,10])\n",
    "    for i in range(n):\n",
    "        if i == n-1:\n",
    "            old = mpatches.Rectangle(oldlist[i].x1,oldlist[i].length,oldlist[i].width,fc=colors[i%len(colors)],ec = (0,0,0,1))\n",
    "            ax1.add_patch(old)\n",
    "        else:\n",
    "            old = mpatches.Rectangle(newlist[i].x1,newlist[i].length,newlist[i].width,fc=colors[i%len(colors)],ec = (0,0,0,1))\n",
    "            ax1.add_patch(old)\n",
    "    \n",
    "        new = mpatches.Rectangle(newlist[i].x1,newlist[i].length,newlist[i].width,fc=colors[i%len(colors)],ec = (0,0,0,1))\n",
    "        ax2.add_patch(new)\n",
    "    n+=1"
   ]
  },
  {
   "cell_type": "code",
   "execution_count": null,
   "metadata": {},
   "outputs": [],
   "source": []
  },
  {
   "cell_type": "code",
   "execution_count": null,
   "metadata": {},
   "outputs": [],
   "source": []
  }
 ],
 "metadata": {
  "kernelspec": {
   "display_name": "Python 2",
   "language": "python",
   "name": "python2"
  },
  "language_info": {
   "codemirror_mode": {
    "name": "ipython",
    "version": 2
   },
   "file_extension": ".py",
   "mimetype": "text/x-python",
   "name": "python",
   "nbconvert_exporter": "python",
   "pygments_lexer": "ipython2",
   "version": "2.7.14"
  }
 },
 "nbformat": 4,
 "nbformat_minor": 2
}
