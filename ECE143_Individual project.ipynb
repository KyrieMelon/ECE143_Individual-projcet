{
 "cells": [
  {
   "cell_type": "markdown",
   "metadata": {},
   "source": [
    "# ECE 143 Individual Project"
   ]
  },
  {
   "cell_type": "markdown",
   "metadata": {},
   "source": [
    "Name: Yumeng Ruan  \n",
    "PID: A53250267"
   ]
  },
  {
   "cell_type": "markdown",
   "metadata": {},
   "source": [
    "# Problem"
   ]
  },
  {
   "cell_type": "markdown",
   "metadata": {},
   "source": [
    "You have been asked to help with planning an ad-hoc communications network over a large rectangular region. Each individual tower can monitor a rectangular subsection of a specific width and height. The main problem is that none of the individual towers can provide coverage for the entire region of interest. Communications towers are unreliable and are put up independently and at random. You have no control over where or how big a tower’s footprint is placed. Importantly, due to technical issues such as cross-talk, no individual rectangular subsection can have multiple towers providing coverage for it. That is, there can be no overlap between any pair of rectangular subsections provided by the two respective towers. In any case, the desire is to maximize the coverage area of any available communications tower."
   ]
  },
  {
   "cell_type": "markdown",
   "metadata": {},
   "source": [
    "# Requirements"
   ]
  },
  {
   "cell_type": "markdown",
   "metadata": {},
   "source": [
    "The order of when the towers come online is important. Once a tower has acquired its rectangular section, no subsequent tower can overlap that section. You may assume the following for this problem:\n",
    "\n",
    "● All rectangular sections have integer-based corners.  \n",
    "● All rectangular sections must be contained in the overall rectangular footprint.  \n",
    "● The height and width of each rectangular section is sampled from a uniform distribution.  \n",
    "● Positions of the windows are also determined by uniform random distribution.  \n",
    "● All footprints must be rectangles (not general polygons).  \n",
    "● When a new tower comes online, if its coverage rectangle intersects the pre-existing\n",
    "composite footprint, then that new tower’s coverage is trimmed such that its maximum remaining coverage area is retained (see sequential diagram below).  \n",
    "\n",
    "Write a detailed Jupyter notebook that implements a solution to this problem such that the user can supply the following overall size of desired coverage footprint and then determine the following:  \n",
    "\n",
    "● Given an overall desired coverage footprint and a sequence of n communications towers, what   is the resulting resolved coverage?  \n",
    "● What is the total area of coverage relative to the desired total coverage area of the         original footprint? That is, are there any gaps in coverage?  \n",
    "● On average, how many communications towers are required before full coverage is obtained?  "
   ]
  },
  {
   "cell_type": "markdown",
   "metadata": {},
   "source": [
    "# Discussion"
   ]
  },
  {
   "cell_type": "markdown",
   "metadata": {},
   "source": [
    "Let's simplify this problem into 4 steps:  \n",
    "1. At first, we can view a tower as a rectangle, we need a method to generate rectangles;  \n",
    "2. Then input integer-based rectangles with random length and width sequently into a square region;    \n",
    "3. Since we are required to check the overlapping section and then trim the wanting maximum non-overlapping rectangle, we need find the way;  \n",
    "4. Repeat step3 until the whole square region is covered.\n",
    "\n",
    "Follow these 4 steps we may find the result of the problem."
   ]
  },
  {
   "cell_type": "markdown",
   "metadata": {},
   "source": [
    "# Rectangle"
   ]
  },
  {
   "cell_type": "code",
   "execution_count": 43,
   "metadata": {},
   "outputs": [],
   "source": [
    "class Rect(object):\n",
    "    \"\"\"The rectangle class\n",
    "       A rectangle has four corners: x1,x2,x3,x4, where x1 represents bottom left,\n",
    "       x2 represent bottom right, x3 represent top left and x4 represents top right.\"\"\"\n",
    "    \n",
    "    def __init__(self, start, l, w):\n",
    "        \"\"\"Initialize function\n",
    "           A legal rectangle can be determined by one start position plus length and width.\n",
    "           We define the bottom left of a rectangle as the start position of it\n",
    "           and length in x-axis and width in y-axis\"\"\"\n",
    "        \n",
    "        assert isinstance(start,tuple)\n",
    "        assert isinstance(l,int)\n",
    "        assert isinstance(w,int)\n",
    "        assert l>0 and w>0\n",
    "        \n",
    "        self.x1 = start\n",
    "        self.length = l\n",
    "        self.width = w\n",
    "    \n",
    "    @property\n",
    "    def x2(self):\n",
    "        \"\"\"Bottom right point\"\"\"\n",
    "        return (self.x1[0] + self.length, self.x1[1])\n",
    "    \n",
    "    @property\n",
    "    def x3(self):\n",
    "        \"\"\"Top left point\"\"\"\n",
    "        return (self.x1[0], self.x1[1] + self.width)\n",
    "    \n",
    "    @property\n",
    "    def x4(self):\n",
    "        \"\"\"Top right point\"\"\"\n",
    "        return (self.x1[0] + self.length, self.x1[1] +self.width)\n",
    "    \n",
    "    def __repr__(self):\n",
    "        return \"Rectangle(%s,%s,%s,%s)\" % (self.x1,self.x2,self.x3,self.x4)\n",
    "\n",
    "    def __eq__(self,other):\n",
    "        \"\"\"We define equality of two rectangles if they are all the same\"\"\"\n",
    "        return self.x1 == other.x1 and self.x2 == other.x2 and self.x3 == other.x3 and self.x4 == self.x4\n",
    "    \n",
    "    def __ge__(self,other):\n",
    "        \"\"\"We say one rectangle is greater or equal to another when it entirely contains another\"\"\"\n",
    "        return self.x1[0]<=other.x1[0] and self.x1[1]<=other.x1[1] and self.x4[0]>=other.x4[0] and self.x4[1]>=other.x4[1]\n",
    "    \n",
    "    def __ne__(self,other):\n",
    "        \"\"\"We say two rectangles are inequal when they are not overlapped\"\"\"\n",
    "        return self.x2[0] <= other.x1[0] or self.x1[0] >= other.x2[0] or self.x3[1] <= other.x1[1] or self.x1[1] >= other.x3[1]\n",
    "    \n",
    "    @property\n",
    "    def area(self):\n",
    "        \"\"\"Calculate the area\"\"\"\n",
    "        return self.length*self.width"
   ]
  },
  {
   "cell_type": "code",
   "execution_count": 40,
   "metadata": {},
   "outputs": [],
   "source": [
    "r1 = Rect((3,3),3,3)\n",
    "r2 = Rect((0,0),3,3)"
   ]
  },
  {
   "cell_type": "code",
   "execution_count": 42,
   "metadata": {},
   "outputs": [
    {
     "data": {
      "text/plain": [
       "Rectangle((100, 100),(103, 100),(100, 103),(103, 103))"
      ]
     },
     "execution_count": 42,
     "metadata": {},
     "output_type": "execute_result"
    }
   ],
   "source": [
    "r1.trans_x1((100,100))\n",
    "r1"
   ]
  },
  {
   "cell_type": "markdown",
   "metadata": {},
   "source": [
    "# Trim"
   ]
  },
  {
   "cell_type": "code",
   "execution_count": 44,
   "metadata": {},
   "outputs": [],
   "source": [
    "import numpy as np\n",
    "import itertools as it\n",
    "\n",
    "def trim(R1,R2):\n",
    "    \"\"\"\n",
    "       Trim two rectangles:\n",
    "       if they are not overlapped, retain both;\n",
    "       if the new one are contained entirely, set the new to 0;\n",
    "       if they intersect, then that new rectangle’s coverage is trimmed \n",
    "       such that its maximum remaining coverage area is retained \n",
    "       \n",
    "       \"\"\"\n",
    "    \n",
    "    if R1 != R2:\n",
    "        pass\n",
    "    elif R1 >= R2:\n",
    "        R2 = 0\n",
    "    else:\n",
    "        l1,r1,b1,t1 = R1.x1[0],R1.x2[0],R1.x1[1],R1.x3[1]\n",
    "        l2,r2,b2,t2 = R2.x1[0],R2.x2[0],R2.x1[1],R2.x3[1]\n",
    "        if not R1 != R2:\n",
    "            if l2 > l1 and r2 > r1:\n",
    "                if b2 < b1 and t2 > t1:\n",
    "                    A,B,C = Rect((l2,t1),r2-l2,t2-t1),Rect((l2,b2),r2-l2,b1-b2),Rect((r1,b2),r2-r1,t2-b2)\n",
    "                    max_area = max(A.area,B.area,C.area)\n",
    "                    if A.area == max_area:\n",
    "                        R2 = A\n",
    "                    elif B.area == max_area:\n",
    "                        R2 = B\n",
    "                    else:\n",
    "                        R2 = C\n",
    "                elif b2 < b1 and t2 <= t1:\n",
    "                    A,B = Rect((l2,b2),r2-l2,b1-b2),Rect((r1,b2),r2-r1,t2-b2)\n",
    "                    if A.area > B.area:\n",
    "                        R2 = A\n",
    "                    else:\n",
    "                        R2 = B\n",
    "                elif b2 >=b1 and t2 > t1:\n",
    "                    A,B= Rect((l2,t1),r2-l2,t2-t1),Rect((r1,b2),r2-r1,t2-b2)\n",
    "                    if A.area > B.area:\n",
    "                        R2 = A\n",
    "                    else:\n",
    "                        R2 = B\n",
    "                else:\n",
    "                    R2 = Rect((r1,b2),r2-r1,t2-b2)\n",
    "            \n",
    "            elif l2 < l1 and r2 < r1:\n",
    "                if b2 < b1 and t2 > t1:\n",
    "                    A,B,C = Rect((l2,t1),r2-l2,t2-t1),Rect((l2,b2),r2-l2,b1-b2),Rect((l2,b2),l1-l2,t2-b2)\n",
    "                    max_area = max(A.area,B.area,C.area)\n",
    "                    if A.area == max_area:\n",
    "                        R2 = A\n",
    "                    elif B.area == max_area:\n",
    "                        R2 = B\n",
    "                    else:\n",
    "                        R2 = C\n",
    "                elif b2 < b1 and t2 <= t1:\n",
    "                    A,B = Rect((l2,b2),r2-l2,b1-b2),Rect((l2,b2),l1-l2,t2-b2)\n",
    "                    if A.area > B.area:\n",
    "                        R2 = A\n",
    "                    else:\n",
    "                        R2 = B\n",
    "                elif b2 >=b1 and t2 > t1:\n",
    "                    A,B= Rect((l2,t1),r2-l2,t2-t1),Rect((l2,b2),l1-l2,t2-b2)\n",
    "                    if A.area > B.area:\n",
    "                        R2 = A\n",
    "                    else:\n",
    "                        R2 = B\n",
    "                else:\n",
    "                    R2 = Rect((l2,b2),l1-l2,t2-b2)\n",
    "            \n",
    "            elif l2 < l1 and r2 > r1:\n",
    "                if b2 < b1 and t2 > t1:\n",
    "                    A,B,C,D = Rect((l2,t1),r2-l2,t2-t1),Rect((l2,b2),r2-l2,b1-b2),Rect((l2,b2),l1-l2,t2-b2),Rect((r1,b2),r2-r1,t2-b2)\n",
    "                    max_area = max(A.area,B.area,C.area,D.area)\n",
    "                    if A.area == max_area:\n",
    "                        R2 = A\n",
    "                    elif B.area == max_area:\n",
    "                        R2 = B\n",
    "                    elif C.area == max_area:\n",
    "                        R2 = C\n",
    "                    else:\n",
    "                        R2 = D\n",
    "                elif b2 < b1 and t2 <= t1:\n",
    "                    A,B,C = Rect((l2,b2),r2-l2,b1-b2),Rect((l2,b2),l1-l2,t2-b2),Rect((r1,b2),r2-r1,t2-b2)\n",
    "                    max_area = max(A.area,B.area,C.area)\n",
    "                    if A.area == max_area:\n",
    "                        R2 = A\n",
    "                    elif B.area == max_area:\n",
    "                        R2 = B\n",
    "                    else:\n",
    "                        R2 = C\n",
    "                elif b2 >=b1 and t2 > t1:\n",
    "                    A,B,C = Rect((l2,t1),r2-l2,t2-t1),Rect((l2,b2),l1-l2,t2-b2),Rect((r1,b2),r2-r1,t2-b2)\n",
    "                    max_area = max(A.area,B.area,C.area)\n",
    "                    if A.area == max_area:\n",
    "                        R2 = A\n",
    "                    elif B.area == max_area:\n",
    "                        R2 = B\n",
    "                    else:\n",
    "                        R2 = C\n",
    "                else:\n",
    "                    A,B = Rect((l2,b2),l1-l2,t2-b2),Rect((r1,b2),r2-r1,t2-b2)\n",
    "                    if A.area > B.area:\n",
    "                        R2 = A\n",
    "                    else:\n",
    "                        R2 = B\n",
    "            else:\n",
    "                if b2 < b1 and t2 > t1:\n",
    "                    A,B = Rect((l2,t1),r2-l2,t2-t1),Rect((l2,b2),r2-l2,b1-b2)\n",
    "                    if A.area > B.area:\n",
    "                        R2 = A\n",
    "                    else:\n",
    "                        R2 = B\n",
    "                elif b2 < b1 and t2 <= t1:\n",
    "                    R2 = Rect((l2,b2),r2-l2,b1-b2)\n",
    "                else:\n",
    "                    R2 = Rect((l2,t1),r2-l2,t2-t1)\n",
    "    \n",
    "    return R2        "
   ]
  },
  {
   "cell_type": "code",
   "execution_count": null,
   "metadata": {},
   "outputs": [],
   "source": []
  }
 ],
 "metadata": {
  "kernelspec": {
   "display_name": "Python 2",
   "language": "python",
   "name": "python2"
  },
  "language_info": {
   "codemirror_mode": {
    "name": "ipython",
    "version": 2
   },
   "file_extension": ".py",
   "mimetype": "text/x-python",
   "name": "python",
   "nbconvert_exporter": "python",
   "pygments_lexer": "ipython2",
   "version": "2.7.14"
  }
 },
 "nbformat": 4,
 "nbformat_minor": 2
}
